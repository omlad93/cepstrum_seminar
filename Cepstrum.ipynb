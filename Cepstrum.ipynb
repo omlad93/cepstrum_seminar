{
  "nbformat": 4,
  "nbformat_minor": 0,
  "metadata": {
    "colab": {
      "name": "Cepstrum.ipynb",
      "provenance": [],
      "collapsed_sections": [],
      "toc_visible": true,
      "authorship_tag": "ABX9TyNwAgYuE0xmcEbH/ESdPgIl",
      "include_colab_link": true
    },
    "kernelspec": {
      "name": "python3",
      "display_name": "Python 3"
    },
    "language_info": {
      "name": "python"
    }
  },
  "cells": [
    {
      "cell_type": "markdown",
      "metadata": {
        "id": "view-in-github",
        "colab_type": "text"
      },
      "source": [
        "<a href=\"https://colab.research.google.com/github/omlad93/cepstrum_seminar/blob/main/Cepstrum.ipynb\" target=\"_parent\"><img src=\"https://colab.research.google.com/assets/colab-badge.svg\" alt=\"Open In Colab\"/></a>"
      ]
    },
    {
      "cell_type": "markdown",
      "source": [
        "# **Seminar on DSP Algorithms and Applications**\n",
        "## Introduction and Demonstaration of Cepstrum Analysis\n",
        "In this notebook we will Explore the Fundemtals ideads and consepts "
      ],
      "metadata": {
        "id": "nvlsePBO0-BM"
      }
    },
    {
      "cell_type": "markdown",
      "source": [
        "### Initialzing notebook"
      ],
      "metadata": {
        "id": "5iB8iz632i-J"
      }
    },
    {
      "cell_type": "code",
      "source": [
        "!pip install acoustics > null"
      ],
      "metadata": {
        "id": "2QaPKgGkVEty"
      },
      "execution_count": null,
      "outputs": []
    },
    {
      "cell_type": "code",
      "execution_count": null,
      "metadata": {
        "id": "-8arNwH00vnT",
        "colab": {
          "base_uri": "https://localhost:8080/"
        },
        "outputId": "c7b559ad-7af7-40d6-fa4f-1ad9621281a6"
      },
      "outputs": [
        {
          "output_type": "stream",
          "name": "stdout",
          "text": [
            "Mounted at /content/gdrive\n"
          ]
        }
      ],
      "source": [
        "import matplotlib.pyplot as plt\n",
        "import matplotlib.collections as collections\n",
        "%matplotlib inline\n",
        "plt.style.use('bmh')\n",
        "import numpy as np\n",
        "from math import pi,e,ceil\n",
        "import soundfile as sf\n",
        "from google.colab import drive\n",
        "from scipy import signal\n",
        "from scipy.io.wavfile import read as load_sound\n",
        "import acoustics.cepstrum as cep\n",
        "\n",
        "drive.mount('/content/gdrive', force_remount=True)\n",
        "dsp_dir = \"/content/gdrive/MyDrive/4th year/DSP Seminar\""
      ]
    },
    {
      "cell_type": "code",
      "source": [
        "# Parameters\n",
        "n = 20\n",
        "time_xlim = (0,0.2)\n",
        "plt.rcParams['figure.figsize'] = [50, 18]"
      ],
      "metadata": {
        "id": "z9-SpuykEkdO"
      },
      "execution_count": null,
      "outputs": []
    },
    {
      "cell_type": "code",
      "source": [
        "def sine_wave(f0:float,t:np.ndarray, phase:float=0.0):\n",
        "    return np.sin(2 * np.pi * f0 * t + phase)\n",
        "\n",
        "def sum_of_sines(f0:float,t:np.ndarray, n:int):\n",
        "    waveform = np.zeros((t.shape[0],), dtype=float)\n",
        "    elements = [\n",
        "                (f0 / f) * sine_wave(f0=f,t=t,phase=f)\n",
        "                for f in [f0*i for i in range(1,n+1)]\n",
        "                ]\n",
        "    info = [\n",
        "            (2*np.pi*f,f)\n",
        "            for  f in [f0*i for i in range(1,n+1)]\n",
        "    ]\n",
        "    for ele in elements:\n",
        "      waveform += ele\n",
        "    return waveform , elements ,info\n",
        "\n",
        "def convert_to_mel(frequencies):\n",
        "  return 2410*(2410*np.log(1+frequencies/625))\n",
        "\n",
        "def pseudo_power_cepstrum(f:np.ndarray, in_mel:bool=False)->tuple:\n",
        "  '''\n",
        "  Returns quefrencies axis and power of f(t)\n",
        "  '''\n",
        "  log_fft_sq = np.log(np.square(np.absolute(np.fft.rfft(np.hamming(len(f)) * f))))\n",
        "  pc = (np.abs(np.fft.rfft(log_fft_sq)))\n",
        "  frequencies =np.fft.rfftfreq(len(f)) if not in_mel else convert_to_mel(np.fft.rfftfreq(len(f)))\n",
        "  df = frequencies[1] - frequencies[0]\n",
        "  quefrencies = np.fft.rfftfreq(log_fft_sq.size, df)\n",
        "  return quefrencies,pc\n",
        "\n",
        "def cepstrum_f0_detection(quefrency_vector:np.ndarray, cepstrum:np.ndarray, fmin=82, fmax=640):\n",
        "    \"\"\"Returns f0 based on cepstral processing.\"\"\"\n",
        "    valid = (quefrency_vector > 1/fmax) & (quefrency_vector <= 1/fmin)\n",
        "    max_quefrency_index = np.argmax(np.abs(cepstrum)[valid])\n",
        "    f0 = 1/quefrency_vector[valid][max_quefrency_index]\n",
        "    return f0\n",
        "\n",
        "def fourier(f,freq):\n",
        "  fft = (np.abs(np.fft.rfft(np.hamming(len(f)) * f)))\n",
        "  frequencies = np.fft.rfftfreq(len(f), 1/freq)\n",
        "  return frequencies,fft\n",
        "\n",
        "def liftering(signal,low=0,high=-1):\n",
        "  for i in range(len(signal)):\n",
        "    if i not in range(low,high+1):\n",
        "      signal[i]=0\n",
        "  return signal\n"
      ],
      "metadata": {
        "id": "iDfjKQiI0Um_"
      },
      "execution_count": null,
      "outputs": []
    },
    {
      "cell_type": "markdown",
      "source": [
        "## Creation of Waves in Time\n",
        "### Creating Independt sine waves\n",
        "generating sin(ωt+ω)"
      ],
      "metadata": {
        "id": "dxbEyxKbQml3"
      }
    },
    {
      "cell_type": "code",
      "source": [
        "FREQ = 1_000 # Hz\n",
        "SAMPLES = ceil(1_000*4*pi) \n",
        "F0 = 0.1592\n",
        "time= np.arange(SAMPLES) / FREQ\n",
        "\n",
        "\n",
        "sum, all, info = sum_of_sines(F0 ,time, n)\n",
        "fig, axes = plt.subplots(nrows= ceil(n//2), ncols=2)\n",
        "fig.tight_layout(pad=3.0)\n",
        "for i in range(len(all)):\n",
        "  axes[i//2][i%2].plot(time,all[i] )\n",
        "  axes[i//2][i%2].set_title(f'sin({info[i][0]:.0f}t+{info[i][1]:.2f}) in Time')"
      ],
      "metadata": {
        "id": "UHlqbvt5UAOk"
      },
      "execution_count": null,
      "outputs": []
    },
    {
      "cell_type": "markdown",
      "source": [
        "### Creation of wave with harmonics (sum of sine waves)\n",
        "creating $f(t)=\\sum_{i=1}^{n}sin(i𝜔_0t_𝜔)$  "
      ],
      "metadata": {
        "id": "n0_5dW3M08b7"
      }
    },
    {
      "cell_type": "code",
      "source": [
        "DURATION = 0.628\n",
        "FREQ = 22_050\n",
        "SAMPLES = int(FREQ*DURATION)\n",
        "t = np.arange(SAMPLES) / FREQ\n",
        "time= np.arange(SAMPLES) / FREQ\n",
        "F0 =500\n",
        "\n",
        "\n",
        "sum, all, info = sum_of_sines(F0 ,time, n)\n",
        "fig, ax = plt.subplots()\n",
        "ax.plot(time, sum)\n",
        "ax.set_xlabel('time (s)')\n",
        "ax.set_title('Harmonic (sum of sines) in Time')"
      ],
      "metadata": {
        "id": "jsWNzE9Qp0-b"
      },
      "execution_count": null,
      "outputs": []
    },
    {
      "cell_type": "markdown",
      "source": [
        "### Fourier Transform\n",
        "### Creating FT of Independt sine waves\n",
        "generating $F(sin(i𝜔_0+𝜔))$ for i in range(n)   "
      ],
      "metadata": {
        "id": "hpuYyeKYQoL_"
      }
    },
    {
      "cell_type": "code",
      "source": [
        "fourier_abs_sines = []\n",
        "sum, all, info = sum_of_sines(F0 ,time, n)\n",
        "fig, axes = plt.subplots(nrows=n//2, ncols=2,)\n",
        "\n",
        "for i in range(len(all)):\n",
        "  abs_fourier = np.abs(np.fft.fft(all[i]))\n",
        "  f_axis = np.fft.fftfreq(SAMPLES)*2*pi\n",
        "  fourier_abs_sines.append(abs_fourier)\n",
        "  ax = axes[(i%(n//2))][(i//(n//2))]\n",
        "  ax.plot(f_axis ,abs_fourier)\n",
        "  ax.set_title(f'F(sin({info[i][0]:.1f}t+{info[i][1]:.0f})) in Frequency [Rad/s]')\n",
        "  ax.tick_params(axis='x', which='major', labelsize=15)\n",
        "plt.setp(axes , \n",
        "         xticks=      [-3.14 ,-1.57 ,0    , 1.57 , 3.14], \n",
        "         xticklabels= ['-π'  ,'-π/2' ,0 , 'π/2' , 'π'  ])\n",
        "fig.tight_layout(pad=3.0)\n"
      ],
      "metadata": {
        "id": "xQz45GPUQzOq"
      },
      "execution_count": null,
      "outputs": []
    },
    {
      "cell_type": "markdown",
      "source": [
        ""
      ],
      "metadata": {
        "id": "hxTsoHncoFCu"
      }
    },
    {
      "cell_type": "markdown",
      "source": [
        "### creating log(FT of sum of sines)\n",
        "creating $F(\\sum_{i=1}^{n}sin(i𝜔_0t_𝜔))$ and $log(F(\\sum_{i=1}^{n}sin(i𝜔_0t_𝜔)))$"
      ],
      "metadata": {
        "id": "Njh2SgydNcsZ"
      }
    },
    {
      "cell_type": "code",
      "source": [
        "frequencies = np.fft.fftshift(np.fft.fftfreq(SAMPLES)*2*pi)\n",
        "fft = np.abs(np.fft.fft(np.hamming(SAMPLES) * sum))\n",
        "log_fft_sq = np.log(np.square(fft))\n",
        "fourier_of_sum = np.log(np.abs(fft))\n",
        "\n",
        "fig, ax = plt.subplots(nrows=2)\n",
        "plt.setp(axes , \n",
        "         xticks=      [-3.14 ,-1.57 ,0    , 1.57 , 3.14], \n",
        "         xticklabels= ['-π'  ,'-π/2' ,0 , 'π/2' , 'π'  ])\n",
        "fig.suptitle('Fourier', fontsize=40)\n",
        "ax[0].plot(frequencies, fft)\n",
        "ax[0].set_xlabel('frequency (Rad/s)', fontsize=20)\n",
        "ax[0].set_title('F(f(t))', fontsize=20)\n",
        "ax[1].plot(frequencies, log_fft_sq)\n",
        "ax[1].set_xlabel('frequency (Rad/s)', fontsize=20)\n",
        "ax[1].set_title('log(F{f(t)}^2)', fontsize=20)\n",
        "\n"
      ],
      "metadata": {
        "id": "E8CCHeqUMcIm"
      },
      "execution_count": null,
      "outputs": []
    },
    {
      "cell_type": "markdown",
      "source": [
        "### creating Cepstrum\n",
        "creating $F^{-1}(log(F(\\sum_{i=1}^{n}sin(i𝜔_0t_𝜔)^2)))^2$  \n",
        "Extracting fundemental frequency from cepstrum\n"
      ],
      "metadata": {
        "id": "XNpdYueFfYKN"
      }
    },
    {
      "cell_type": "code",
      "source": [
        "epsilon = 10e-4\n",
        "sum, all, info = sum_of_sines(F0 ,time, n)\n",
        "\n",
        "quefrencies = np.fft.fftfreq(fft.size)\n",
        "sum_cepstrum,fs = cep.complex_cepstrum(sum)\n",
        "# print(sum_cepstrum)\n",
        "fig, ax = plt.subplots()\n",
        "ax.plot(quefrencies, sum_cepstrum)\n",
        "ax.set_xlabel('quefrency (s)', fontsize=20)\n",
        "ax.set_title('C(f(t))', fontsize=20)\n",
        "ax.set_xlim(-epsilon, max(quefrencies)+0.1)"
      ],
      "metadata": {
        "id": "cw1QXNwYMvN8"
      },
      "execution_count": null,
      "outputs": []
    },
    {
      "cell_type": "markdown",
      "source": [
        "## Testing Applicability\n",
        "We will now see two features of of cepstral analysis  \n",
        "1. simplication of convolution in time: $C(f(t)*h(t)) ≈ C(f(t))+C(h(t))$\n",
        "2. advantges of **liftering**: the cepstral equivalent of spectrum filtering: echo canceling\n"
      ],
      "metadata": {
        "id": "pWxzCGD9Q0gC"
      }
    },
    {
      "cell_type": "code",
      "source": [
        "k,l = 100,500\n",
        "SIG = np.asarray([k/(n+k)*np.sin(n/5) for n in range(l)])\n",
        "CON = np.convolve(SIG,SIG)\n",
        "SIG_PADDED = np.pad(SIG, [1, CON.size - SIG.size-1],'constant') # Zero Padded in the End\n",
        "t= np.arange(SIG_PADDED.size)\n",
        "\n",
        "sig,_ = cep.complex_cepstrum(SIG)\n",
        "fig, ax = plt.subplots(nrows=2,sharex=True)\n",
        "ax[0].plot(t, SIG_PADDED)\n",
        "ax[0].set_xlabel('Time (s)', fontsize=20)\n",
        "ax[0].set_title('Pulses', fontsize=20)\n",
        "ax[1].plot(t, CON)\n",
        "ax[1].set_xlabel('Time (s)', fontsize=20)\n",
        "ax[1].set_title('Pulses', fontsize=20)"
      ],
      "metadata": {
        "id": "cicdEB44R1VI"
      },
      "execution_count": null,
      "outputs": []
    },
    {
      "cell_type": "code",
      "source": [
        "sig, _ = cep.complex_cepstrum(SIG_PADDED)\n",
        "con, _ = cep.complex_cepstrum(CON)\n",
        "f = np.fft.fftfreq(SIG_PADDED.size,1/(2*pi))\n",
        "q = np.fft.fftshift(np.fft.fftfreq(f.size))\n",
        "sum = sig+sig\n",
        "fig, ax = plt.subplots(nrows=3)\n",
        "plt.setp(ax , \n",
        "         xlabel = 'Cepstrum by quefrency')\n",
        "ax[0].plot(q, sum)\n",
        "ax[1].plot(q, con)\n",
        "ax[2].plot(q, sum)\n",
        "ax[2].plot(q, con, 'r+')"
      ],
      "metadata": {
        "id": "e5cJlpoafW3O"
      },
      "execution_count": null,
      "outputs": []
    }
  ]
}